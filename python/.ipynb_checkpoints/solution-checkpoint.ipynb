{
 "cells": [
  {
   "cell_type": "code",
   "execution_count": 1,
   "metadata": {
    "_cell_guid": "645a49a6-30ca-4367-9d16-a7376f36efd8",
    "_execution_state": "idle",
    "_uuid": "b5de489792ebc6122bd8d94d6e2f79905b6e45c9",
    "scrolled": true
   },
   "outputs": [],
   "source": [
    "import numpy as np\n",
    "import pandas as pd\n",
    "import matplotlib.pyplot as plt\n",
    "from sklearn.metrics import mean_squared_error\n",
    "from tqdm import tqdm_notebook as tqdm\n",
    "%matplotlib inline\n",
    "\n",
    "from subprocess import check_output"
   ]
  },
  {
   "cell_type": "code",
   "execution_count": 2,
   "metadata": {
    "_cell_guid": "5abeded5-ccf8-4763-a0b2-b824686307ab",
    "_execution_state": "idle",
    "_uuid": "f8faee471ba370c59cc6cf590b5f78453a1fe919"
   },
   "outputs": [],
   "source": [
    "train = pd.read_csv(\"../input/train.zip\")"
   ]
  },
  {
   "cell_type": "code",
   "execution_count": 3,
   "metadata": {
    "_cell_guid": "9028e419-56a7-4845-b9d8-8105d7d72f17",
    "_uuid": "f2907352d902bb6cb37f8ceeaaf10e149bcf504c"
   },
   "outputs": [
    {
     "data": {
      "text/html": [
       "<div>\n",
       "<style scoped>\n",
       "    .dataframe tbody tr th:only-of-type {\n",
       "        vertical-align: middle;\n",
       "    }\n",
       "\n",
       "    .dataframe tbody tr th {\n",
       "        vertical-align: top;\n",
       "    }\n",
       "\n",
       "    .dataframe thead th {\n",
       "        text-align: right;\n",
       "    }\n",
       "</style>\n",
       "<table border=\"1\" class=\"dataframe\">\n",
       "  <thead>\n",
       "    <tr style=\"text-align: right;\">\n",
       "      <th></th>\n",
       "      <th>id</th>\n",
       "      <th>vendor_id</th>\n",
       "      <th>pickup_datetime</th>\n",
       "      <th>dropoff_datetime</th>\n",
       "      <th>passenger_count</th>\n",
       "      <th>pickup_longitude</th>\n",
       "      <th>pickup_latitude</th>\n",
       "      <th>dropoff_longitude</th>\n",
       "      <th>dropoff_latitude</th>\n",
       "      <th>store_and_fwd_flag</th>\n",
       "      <th>trip_duration</th>\n",
       "    </tr>\n",
       "  </thead>\n",
       "  <tbody>\n",
       "    <tr>\n",
       "      <th>0</th>\n",
       "      <td>id2875421</td>\n",
       "      <td>2</td>\n",
       "      <td>2016-03-14 17:24:55</td>\n",
       "      <td>2016-03-14 17:32:30</td>\n",
       "      <td>1</td>\n",
       "      <td>-73.982155</td>\n",
       "      <td>40.767937</td>\n",
       "      <td>-73.964630</td>\n",
       "      <td>40.765602</td>\n",
       "      <td>N</td>\n",
       "      <td>455</td>\n",
       "    </tr>\n",
       "    <tr>\n",
       "      <th>1</th>\n",
       "      <td>id2377394</td>\n",
       "      <td>1</td>\n",
       "      <td>2016-06-12 00:43:35</td>\n",
       "      <td>2016-06-12 00:54:38</td>\n",
       "      <td>1</td>\n",
       "      <td>-73.980415</td>\n",
       "      <td>40.738564</td>\n",
       "      <td>-73.999481</td>\n",
       "      <td>40.731152</td>\n",
       "      <td>N</td>\n",
       "      <td>663</td>\n",
       "    </tr>\n",
       "    <tr>\n",
       "      <th>2</th>\n",
       "      <td>id3858529</td>\n",
       "      <td>2</td>\n",
       "      <td>2016-01-19 11:35:24</td>\n",
       "      <td>2016-01-19 12:10:48</td>\n",
       "      <td>1</td>\n",
       "      <td>-73.979027</td>\n",
       "      <td>40.763939</td>\n",
       "      <td>-74.005333</td>\n",
       "      <td>40.710087</td>\n",
       "      <td>N</td>\n",
       "      <td>2124</td>\n",
       "    </tr>\n",
       "    <tr>\n",
       "      <th>3</th>\n",
       "      <td>id3504673</td>\n",
       "      <td>2</td>\n",
       "      <td>2016-04-06 19:32:31</td>\n",
       "      <td>2016-04-06 19:39:40</td>\n",
       "      <td>1</td>\n",
       "      <td>-74.010040</td>\n",
       "      <td>40.719971</td>\n",
       "      <td>-74.012268</td>\n",
       "      <td>40.706718</td>\n",
       "      <td>N</td>\n",
       "      <td>429</td>\n",
       "    </tr>\n",
       "    <tr>\n",
       "      <th>4</th>\n",
       "      <td>id2181028</td>\n",
       "      <td>2</td>\n",
       "      <td>2016-03-26 13:30:55</td>\n",
       "      <td>2016-03-26 13:38:10</td>\n",
       "      <td>1</td>\n",
       "      <td>-73.973053</td>\n",
       "      <td>40.793209</td>\n",
       "      <td>-73.972923</td>\n",
       "      <td>40.782520</td>\n",
       "      <td>N</td>\n",
       "      <td>435</td>\n",
       "    </tr>\n",
       "  </tbody>\n",
       "</table>\n",
       "</div>"
      ],
      "text/plain": [
       "          id  vendor_id      pickup_datetime     dropoff_datetime  \\\n",
       "0  id2875421          2  2016-03-14 17:24:55  2016-03-14 17:32:30   \n",
       "1  id2377394          1  2016-06-12 00:43:35  2016-06-12 00:54:38   \n",
       "2  id3858529          2  2016-01-19 11:35:24  2016-01-19 12:10:48   \n",
       "3  id3504673          2  2016-04-06 19:32:31  2016-04-06 19:39:40   \n",
       "4  id2181028          2  2016-03-26 13:30:55  2016-03-26 13:38:10   \n",
       "\n",
       "   passenger_count  pickup_longitude  pickup_latitude  dropoff_longitude  \\\n",
       "0                1        -73.982155        40.767937         -73.964630   \n",
       "1                1        -73.980415        40.738564         -73.999481   \n",
       "2                1        -73.979027        40.763939         -74.005333   \n",
       "3                1        -74.010040        40.719971         -74.012268   \n",
       "4                1        -73.973053        40.793209         -73.972923   \n",
       "\n",
       "   dropoff_latitude store_and_fwd_flag  trip_duration  \n",
       "0         40.765602                  N            455  \n",
       "1         40.731152                  N            663  \n",
       "2         40.710087                  N           2124  \n",
       "3         40.706718                  N            429  \n",
       "4         40.782520                  N            435  "
      ]
     },
     "execution_count": 3,
     "metadata": {},
     "output_type": "execute_result"
    }
   ],
   "source": [
    "train.head()"
   ]
  },
  {
   "cell_type": "code",
   "execution_count": 4,
   "metadata": {
    "_cell_guid": "66ed93dd-3d0d-454b-afc5-9f05779961e1",
    "_uuid": "b20168164ad1ad3c5fe695a8a957093d1088b5c4"
   },
   "outputs": [],
   "source": [
    "trip_duration_min = \\\n",
    "train.groupby('store_and_fwd_flag')['trip_duration'].min()[\"Y\"]\n",
    "trip_duration_max = \\\n",
    "train.groupby('store_and_fwd_flag')['trip_duration'].max()[\"Y\"]"
   ]
  },
  {
   "cell_type": "code",
   "execution_count": 5,
   "metadata": {
    "_cell_guid": "73b468c4-1262-487a-b628-75af7377bf01",
    "_uuid": "86d8526a52fe1dd606d9af68ebefca4cd5544063"
   },
   "outputs": [],
   "source": [
    "def drop_duration(df):\n",
    "    df.loc[df.trip_duration < trip_duration_min,'trip_duration'] = np.nan\n",
    "    value=df.trip_duration.min()\n",
    "    df.trip_duration.fillna(value=value, inplace=True) \n",
    "\n",
    "    df.loc[df.trip_duration > trip_duration_max,'trip_duration'] = np.nan\n",
    "    value=df.trip_duration.max()\n",
    "    df.trip_duration.fillna(value=value, inplace=True)\n",
    "    return"
   ]
  },
  {
   "cell_type": "code",
   "execution_count": 6,
   "metadata": {
    "_cell_guid": "9442e906-59f3-4d9e-9cc1-c531e5b6cc77",
    "_uuid": "c589562179bcea0bbd8eb889f7c24bcbf89e1e2b"
   },
   "outputs": [],
   "source": [
    "drop_duration(train)"
   ]
  },
  {
   "cell_type": "code",
   "execution_count": 7,
   "metadata": {
    "_cell_guid": "20402585-bf6e-4c3b-b91d-ae0f714c1e38",
    "_uuid": "a4bd05e15b5c386606d2d8548ddca668d2318b81"
   },
   "outputs": [],
   "source": [
    "def conf_int_duration(df):\n",
    "    \n",
    "    conf_int_duration = np.percentile(df.trip_duration, [2.5,97.5])    \n",
    "    df.loc[df.trip_duration < conf_int_duration[0],'trip_duration'] = np.nan\n",
    "    value=df.trip_duration.min()\n",
    "    df.trip_duration.fillna(value=value, inplace=True) \n",
    "    \n",
    "    df.loc[df.trip_duration > conf_int_duration[1],'trip_duration'] = np.nan\n",
    "    value=df.trip_duration.max()\n",
    "    df.trip_duration.fillna(value=value, inplace=True)\n",
    "        \n",
    "    return"
   ]
  },
  {
   "cell_type": "code",
   "execution_count": 8,
   "metadata": {
    "_cell_guid": "5ce31a11-8597-427c-a5ea-a89997624b9e",
    "_uuid": "a038959ed1308a8983d4f13fea637089e290e862"
   },
   "outputs": [],
   "source": [
    "conf_int_duration(train)"
   ]
  },
  {
   "cell_type": "code",
   "execution_count": 9,
   "metadata": {
    "_cell_guid": "4e9e033c-c89f-4ecd-879e-8e5c97c34076",
    "_execution_state": "idle",
    "_uuid": "9179e48c3db5116e69617e6701bc70aa32a52f2d"
   },
   "outputs": [],
   "source": [
    "test = pd.read_csv(\"../input/test.zip\")"
   ]
  },
  {
   "cell_type": "code",
   "execution_count": 10,
   "metadata": {
    "_cell_guid": "ed2ac19a-f00c-4371-b443-984c44bcfb85",
    "_uuid": "4298507fa30841e0a76d284f4443588721b57fd8"
   },
   "outputs": [],
   "source": [
    "result = pd.concat([train, test])"
   ]
  },
  {
   "cell_type": "code",
   "execution_count": 11,
   "metadata": {
    "_cell_guid": "291f68a3-20c8-4ab4-9339-229f35e9f6d2",
    "_uuid": "bd8ea1210673eeeac20e6ad23cff3488f02b8804"
   },
   "outputs": [],
   "source": [
    "pickup_long_min = \\\n",
    "result.groupby('store_and_fwd_flag')['pickup_longitude'].min()[\"Y\"]\n",
    "pickup_long_max = \\\n",
    "result.groupby('store_and_fwd_flag')['pickup_longitude'].max()[\"Y\"]\n",
    "\n",
    "dropoff_long_min = \\\n",
    "result.groupby('store_and_fwd_flag')['dropoff_longitude'].min()[\"Y\"]\n",
    "dropoff_long_max = \\\n",
    "result.groupby('store_and_fwd_flag')['dropoff_longitude'].max()[\"Y\"]\n",
    "\n",
    "pickup_lat_min = \\\n",
    "result.groupby('store_and_fwd_flag')['pickup_latitude'].min()[\"Y\"]\n",
    "pickup_lat_max = \\\n",
    "result.groupby('store_and_fwd_flag')['pickup_latitude'].max()[\"Y\"]\n",
    "\n",
    "dropoff_lat_min = \\\n",
    "result.groupby('store_and_fwd_flag')['dropoff_latitude'].min()[\"Y\"]\n",
    "dropoff_lat_max = \\\n",
    "result.groupby('store_and_fwd_flag')['dropoff_latitude'].max()[\"Y\"]"
   ]
  },
  {
   "cell_type": "code",
   "execution_count": 12,
   "metadata": {
    "_cell_guid": "23e8ecd0-8ae9-44c8-bdd1-8a8a5a3aa649",
    "_uuid": "cadfeb75859ccbcc3a192c5ba6800b58d3ec37bd",
    "scrolled": true
   },
   "outputs": [],
   "source": [
    "result['pickup_longitude'] = result.pickup_longitude.round(5)\n",
    "result['pickup_latitude'] = result.pickup_latitude.round(5)\n",
    "\n",
    "\n",
    "result.loc[result.pickup_latitude <  pickup_lat_min, 'pickup_latitude'] = np.nan\n",
    "value=result.pickup_latitude.min()\n",
    "result.pickup_latitude.fillna(value=value, inplace=True)\n",
    "\n",
    "result.loc[result.pickup_latitude > pickup_lat_max, 'pickup_latitude'] = np.nan\n",
    "value=result.pickup_latitude.max()\n",
    "result.pickup_latitude.fillna(value=value, inplace=True)\n",
    "\n",
    "result.loc[result.pickup_longitude < pickup_long_min, 'pickup_longitude'] = np.nan\n",
    "value=result.pickup_longitude.min()\n",
    "result.pickup_longitude.fillna(value=value, inplace=True)\n",
    "\n",
    "result.loc[result.pickup_longitude > pickup_long_max, 'pickup_longitude'] = np.nan\n",
    "value=result.pickup_longitude.max()\n",
    "result.pickup_longitude.fillna(value=value, inplace=True)\n",
    "\n",
    "\n",
    "result['dropoff_longitude'] = result.dropoff_longitude.round(5)\n",
    "result['dropoff_latitude'] = result.dropoff_latitude.round(5)\n",
    "\n",
    "\n",
    "result.loc[result.dropoff_latitude < dropoff_lat_min, 'dropoff_latitude'] = np.nan\n",
    "value=result.dropoff_latitude.min()\n",
    "result.dropoff_latitude.fillna(value=value, inplace=True)\n",
    "\n",
    "result.loc[result.dropoff_latitude > dropoff_lat_max, 'dropoff_latitude'] = np.nan\n",
    "value=result.dropoff_latitude.max()\n",
    "result.dropoff_latitude.fillna(value=value, inplace=True)\n",
    "\n",
    "result.loc[result.dropoff_longitude < dropoff_long_min, 'dropoff_longitude'] = np.nan\n",
    "value=result.dropoff_longitude.min()\n",
    "result.dropoff_longitude.fillna(value=value, inplace=True)\n",
    "\n",
    "result.loc[result.dropoff_longitude > dropoff_long_max, 'dropoff_longitude'] = np.nan\n",
    "value=result.dropoff_longitude.max()\n",
    "result.dropoff_longitude.fillna(value=value, inplace=True)"
   ]
  },
  {
   "cell_type": "code",
   "execution_count": 13,
   "metadata": {
    "_cell_guid": "9d0288f7-fc44-4b02-9e17-253b0e2a159a",
    "_execution_state": "idle",
    "_uuid": "02c2baad5a0dde21a29b08edfe269e18db745fce"
   },
   "outputs": [],
   "source": [
    "AVG_EARTH_RADIUS = 6371 \n",
    "def haversine(df, miles=True):\n",
    "    \"\"\" Get the distance of routes by  the haversinus formula\"\"\"\n",
    "    lat1, lng1, lat2, lng2 = (df.pickup_latitude[:], \n",
    "                              df.pickup_longitude[:], \n",
    "                              df.dropoff_latitude[:], \n",
    "                              df.dropoff_longitude[:])\n",
    "\n",
    "    lat1, lng1, lat2, lng2 = map(np.radians, (lat1, lng1, lat2, lng2))\n",
    "\n",
    "    lat = lat2 - lat1\n",
    "    lng = lng2 - lng1\n",
    "    d = np.sin(lat*0.5)**2 + np.cos(lat1) * np.cos(lat2) * np.sin(lng*0.5)**2\n",
    "    h = 2 * AVG_EARTH_RADIUS * np.arcsin(np.sqrt(d))\n",
    "    if miles:\n",
    "        df['trip_distance'] = h * 0.621371  \n",
    "        df['trip_distance'] = df.trip_distance.round(2)\n",
    "        print(df.trip_distance.describe())\n",
    "        return \n",
    "    else:\n",
    "        df['trip_distance'] = h  \n",
    "        df['trip_distance'] = df.trip_distance.round(2)\n",
    "        print(df.trip_distance.describe())\n",
    "        return"
   ]
  },
  {
   "cell_type": "code",
   "execution_count": 14,
   "metadata": {
    "_cell_guid": "4a8c2795-d9ca-4d87-8c0d-033d3f649500",
    "_execution_state": "idle",
    "_uuid": "af313f3672ce6753547bb062535fad4e6fa04810"
   },
   "outputs": [
    {
     "name": "stdout",
     "output_type": "stream",
     "text": [
      "count    2.083778e+06\n",
      "mean     2.134070e+00\n",
      "std      2.443593e+00\n",
      "min      0.000000e+00\n",
      "25%      7.700000e-01\n",
      "50%      1.300000e+00\n",
      "75%      2.410000e+00\n",
      "max      5.067000e+01\n",
      "Name: trip_distance, dtype: float64\n"
     ]
    }
   ],
   "source": [
    "haversine(result, miles=True) "
   ]
  },
  {
   "cell_type": "code",
   "execution_count": 15,
   "metadata": {
    "_cell_guid": "2389a239-926c-45c0-9f04-70cdcda25af8",
    "_execution_state": "idle",
    "_uuid": "e5f7846b751268018fe6dbafe450e45e2df11cf3"
   },
   "outputs": [],
   "source": [
    "def arrays_bearing(df):\n",
    "\n",
    "    lats1, lngs1, lats2, lngs2 = (df['pickup_latitude'][:], \n",
    "                                  df['pickup_longitude'][:], \n",
    "                                  df['dropoff_latitude'][:], \n",
    "                                  df['dropoff_longitude'][:])\n",
    "    lats1_rads = np.radians(lats1)\n",
    "    lats2_rads = np.radians(lats2)\n",
    "    lngs_delta_rads = np.radians(lngs2 - lngs1)\n",
    "    \n",
    "    y = np.sin(lngs_delta_rads) * np.cos(lats2_rads)\n",
    "    x = np.cos(lats1_rads) * np.sin(lats2_rads) -                      \\\n",
    "    np.sin(lats1_rads) * np.cos(lats2_rads) * np.cos(lngs_delta_rads)\n",
    "    df['bearing'] = np.degrees(np.arctan2(y, x))\n",
    "    df['bearing'] = df.bearing.round(0)\n",
    "    return"
   ]
  },
  {
   "cell_type": "code",
   "execution_count": 16,
   "metadata": {
    "_cell_guid": "b7041d03-21ad-42db-acb8-64ee2ce63e68",
    "_execution_state": "idle",
    "_uuid": "993fc3588fec72f5339db3f2465a7618a5f3a31f"
   },
   "outputs": [],
   "source": [
    "arrays_bearing(result)"
   ]
  },
  {
   "cell_type": "code",
   "execution_count": 17,
   "metadata": {
    "_cell_guid": "7b195c83-cdd4-4a26-85ce-06c99113da42",
    "_uuid": "4547230e13952fc6ccc54bbf89193db636b07a9a"
   },
   "outputs": [],
   "source": [
    "result.drop('dropoff_datetime', axis=1, inplace=True)"
   ]
  },
  {
   "cell_type": "code",
   "execution_count": 18,
   "metadata": {
    "_cell_guid": "c642da70-c7ab-4b85-8a70-98ebbcf44a5b",
    "_uuid": "8e4f800bcf666c56d684ab3a6441d14e3e772250"
   },
   "outputs": [],
   "source": [
    "result['pickup_datetime'] = pd.to_datetime(result.pickup_datetime)"
   ]
  },
  {
   "cell_type": "code",
   "execution_count": 19,
   "metadata": {
    "_cell_guid": "d5b0a01e-d15c-4a05-8508-0886e031c015",
    "_uuid": "ff426ab67955a7fa8a63f436e4067cc10cd200b2"
   },
   "outputs": [],
   "source": [
    "result['days_in_month'] = result['pickup_datetime'][:].dt.days_in_month"
   ]
  },
  {
   "cell_type": "code",
   "execution_count": 20,
   "metadata": {
    "_cell_guid": "2a6f2630-ea91-404d-842d-3b41c1b381e0",
    "_execution_state": "idle",
    "_uuid": "588d7d54d365ce1d9ee37abfde6e4dfe7d90b157"
   },
   "outputs": [],
   "source": [
    "result['weekday'] = result['pickup_datetime'].dt.weekday"
   ]
  },
  {
   "cell_type": "code",
   "execution_count": 21,
   "metadata": {
    "_cell_guid": "b5732874-0c2c-4395-8546-a19032b15544",
    "_uuid": "e0bf2cb56e99c9e270a43b6b8d5f61b6f9192f2b"
   },
   "outputs": [],
   "source": [
    "result['hour'] = result['pickup_datetime'][:].dt.hour"
   ]
  },
  {
   "cell_type": "code",
   "execution_count": 22,
   "metadata": {
    "_cell_guid": "388901ce-2306-4637-99ef-d0d02786e971",
    "_execution_state": "idle",
    "_uuid": "3fc56eb72b1385f52f1b436d6ad78490cab7ad34",
    "scrolled": true
   },
   "outputs": [],
   "source": [
    "result['minute'] = result['pickup_datetime'][:].dt.minute"
   ]
  },
  {
   "cell_type": "code",
   "execution_count": 23,
   "metadata": {
    "_cell_guid": "50cb149b-5cd5-4c1f-8b27-7be738fa5cdd",
    "_uuid": "991ac9ad603415bd9e7562f523042c17c4907265"
   },
   "outputs": [],
   "source": [
    "result['month'] = result['pickup_datetime'][:].dt.month"
   ]
  },
  {
   "cell_type": "code",
   "execution_count": 24,
   "metadata": {
    "_cell_guid": "a308c4bb-6d89-4409-aaf8-bf315afe88f5",
    "_uuid": "daa80ee409da81c0b6212de5e581fcf6306a1345"
   },
   "outputs": [],
   "source": [
    "result.drop(['pickup_datetime', 'store_and_fwd_flag', 'id'], axis=1, inplace=True)"
   ]
  },
  {
   "cell_type": "code",
   "execution_count": 25,
   "metadata": {
    "_cell_guid": "2a40db26-4556-4f69-b510-0eee7047f286",
    "_uuid": "19c71c58cc981bff7f268752801cad1f7e05813f"
   },
   "outputs": [],
   "source": [
    "test= result[result.trip_duration.isnull()]"
   ]
  },
  {
   "cell_type": "code",
   "execution_count": 26,
   "metadata": {
    "_cell_guid": "af1625c0-4e24-4815-aaae-a06988b9e08c",
    "_uuid": "6f6e34d339783d816e54e08ad0a74c32dfbf504a"
   },
   "outputs": [
    {
     "name": "stderr",
     "output_type": "stream",
     "text": [
      "/home/konstantin/anaconda2/lib/python2.7/site-packages/ipykernel_launcher.py:1: SettingWithCopyWarning: \n",
      "A value is trying to be set on a copy of a slice from a DataFrame\n",
      "\n",
      "See the caveats in the documentation: http://pandas.pydata.org/pandas-docs/stable/indexing.html#indexing-view-versus-copy\n",
      "  \"\"\"Entry point for launching an IPython kernel.\n"
     ]
    }
   ],
   "source": [
    "test.drop('trip_duration', axis=1, inplace=True)"
   ]
  },
  {
   "cell_type": "code",
   "execution_count": 27,
   "metadata": {
    "_cell_guid": "fe12deb9-5623-4986-9d29-132cf0bdef60",
    "_uuid": "5203384b5afcce15afb182aeef2ad63e6e3fbb4c"
   },
   "outputs": [],
   "source": [
    "train = result[result.trip_duration.notnull()]"
   ]
  },
  {
   "cell_type": "code",
   "execution_count": 28,
   "metadata": {
    "_cell_guid": "a740214a-6644-49ae-a345-aac9f2bdf2e6",
    "_uuid": "6aaa8a2f8c912660a75b4c3dc9c21795611ae14d"
   },
   "outputs": [
    {
     "name": "stderr",
     "output_type": "stream",
     "text": [
      "/home/konstantin/anaconda2/lib/python2.7/site-packages/pandas/core/generic.py:3643: SettingWithCopyWarning: \n",
      "A value is trying to be set on a copy of a slice from a DataFrame.\n",
      "Try using .loc[row_indexer,col_indexer] = value instead\n",
      "\n",
      "See the caveats in the documentation: http://pandas.pydata.org/pandas-docs/stable/indexing.html#indexing-view-versus-copy\n",
      "  self[name] = value\n"
     ]
    }
   ],
   "source": [
    "train.trip_duration = (train['trip_duration']+1).apply(np.log)\n",
    "trip_duration = train.trip_duration.values"
   ]
  },
  {
   "cell_type": "code",
   "execution_count": 29,
   "metadata": {
    "_cell_guid": "5e17491b-34ac-4730-8de1-5766a1dc9e72",
    "_uuid": "d38bb769d3a241828fca81bc58cdeb287bc58cc6"
   },
   "outputs": [
    {
     "name": "stderr",
     "output_type": "stream",
     "text": [
      "/home/konstantin/anaconda2/lib/python2.7/site-packages/ipykernel_launcher.py:1: SettingWithCopyWarning: \n",
      "A value is trying to be set on a copy of a slice from a DataFrame\n",
      "\n",
      "See the caveats in the documentation: http://pandas.pydata.org/pandas-docs/stable/indexing.html#indexing-view-versus-copy\n",
      "  \"\"\"Entry point for launching an IPython kernel.\n"
     ]
    }
   ],
   "source": [
    "train.drop('trip_duration', axis=1, inplace=True)"
   ]
  },
  {
   "cell_type": "code",
   "execution_count": 30,
   "metadata": {
    "_cell_guid": "16944fac-a6f9-4133-8739-d215bcaf882e",
    "_uuid": "4dfd505cd262aa485510dc35e7a415972b946693"
   },
   "outputs": [
    {
     "name": "stdout",
     "output_type": "stream",
     "text": [
      "((625134, 13), (1458644, 13), (1458644,))\n"
     ]
    }
   ],
   "source": [
    "print(test.shape, train.shape, trip_duration.shape)"
   ]
  },
  {
   "cell_type": "code",
   "execution_count": 31,
   "metadata": {
    "_cell_guid": "d482cbff-a5dd-4e65-b96b-dcbd7f707b41",
    "_uuid": "5664355d07fd78add45b28212d7f5aab8d84bb09"
   },
   "outputs": [],
   "source": [
    "X = train.values"
   ]
  },
  {
   "cell_type": "code",
   "execution_count": 32,
   "metadata": {
    "_cell_guid": "9337b55c-cdb4-4de0-b748-7b7fd5dc61f7",
    "_uuid": "25bd55bbbda58fe7bc5af2ceac60e395e9a051ae"
   },
   "outputs": [],
   "source": [
    "y = trip_duration"
   ]
  },
  {
   "cell_type": "code",
   "execution_count": 33,
   "metadata": {
    "_cell_guid": "904c6f67-23b3-4407-9c8e-3ea0b5a34add",
    "_uuid": "3e3ce72a933a712ce63060b463eae4b5abe1724b"
   },
   "outputs": [],
   "source": [
    "from sklearn.model_selection import train_test_split"
   ]
  },
  {
   "cell_type": "code",
   "execution_count": 34,
   "metadata": {
    "_cell_guid": "e83a7f27-5f06-4bc4-8ab8-0edebe7281d7",
    "_uuid": "c290f55ca583ed277f005521cda8050fad54423d"
   },
   "outputs": [],
   "source": [
    "X_train, X_test, y_train, y_test = train_test_split(X, y, random_state=42)"
   ]
  },
  {
   "cell_type": "code",
   "execution_count": 35,
   "metadata": {
    "_cell_guid": "0d19de4a-9ad9-41fc-8abc-ad2541656af2",
    "_uuid": "9fde6913ddd7a61da7215bda4932934bbf791502"
   },
   "outputs": [],
   "source": [
    "X_train,X_val,y_train,y_val = \\\n",
    "train_test_split(X_train,y_train, random_state=41)"
   ]
  },
  {
   "cell_type": "code",
   "execution_count": 36,
   "metadata": {
    "_cell_guid": "12f4981b-7d78-4bbb-bfbe-de9356e440eb",
    "_uuid": "f3c2f40e9536a139c9e9790f4115a66318a2eee3"
   },
   "outputs": [],
   "source": [
    "import xgboost as xgb"
   ]
  },
  {
   "cell_type": "code",
   "execution_count": 37,
   "metadata": {
    "_cell_guid": "dd61572e-82b7-4c4c-8753-c5a5f97cfe7a",
    "_uuid": "366dbe88284b891975b8863c028d85675ef8e556"
   },
   "outputs": [],
   "source": [
    "train_xgb  = xgb.DMatrix(X_train, label=y_train)\n",
    "cv_xgb  = xgb.DMatrix(X_val , label=y_val)\n",
    "evallist = [(train_xgb, 'train'), (cv_xgb, 'valid')]"
   ]
  },
  {
   "cell_type": "code",
   "execution_count": 40,
   "metadata": {
    "_cell_guid": "9eb9bbc4-50a3-4706-9570-2c9f63f06a85",
    "_uuid": "00c1ee291602c7173feb88c75e615ff4ee1d164b",
    "scrolled": true
   },
   "outputs": [],
   "source": [
    "param = {'eta': .5,\n",
    "         'max_depth':6,\n",
    "         'objective':'reg:linear',\n",
    "         'subsample':1,\n",
    "         'lambda '  :1,\n",
    "         'colsample_bytree ':1,\n",
    "         'tree_method': \"gpu_hist\"}  \n",
    "\n",
    "model = xgb.train(param, train_xgb, num_boost_round=500, evals = evallist, maximize=False, \n",
    "                  verbose_eval=False)\n"
   ]
  },
  {
   "cell_type": "code",
   "execution_count": 41,
   "metadata": {
    "_cell_guid": "ad10e347-2062-4f92-8715-8f5f69180ee5",
    "_uuid": "f735fd4c3f186fc05ad411ac3ef6dabafa1f8178"
   },
   "outputs": [],
   "source": [
    "X_real_test = test.values"
   ]
  },
  {
   "cell_type": "code",
   "execution_count": 42,
   "metadata": {
    "_cell_guid": "7d6f78cc-0495-423f-951f-3e176ca10f8b",
    "_uuid": "6a9c687227ceb19da50f9a19df5ed1e2277583f1"
   },
   "outputs": [],
   "source": [
    "test_xgb = xgb.DMatrix(X_real_test)\n",
    "y_pred = model.predict(test_xgb)"
   ]
  },
  {
   "cell_type": "code",
   "execution_count": 43,
   "metadata": {
    "_cell_guid": "54a891be-e9ac-47c9-a18e-9d99948bcaab",
    "_uuid": "d714a3fbee8373f9b7a56a000677f0cad443c261"
   },
   "outputs": [
    {
     "data": {
      "text/plain": [
       "array([6.758745 , 6.352933 , 6.049654 , 6.7883134, 6.062416 , 6.789539 ,\n",
       "       7.0310283, 6.4393992, 7.789947 , 6.3780966], dtype=float32)"
      ]
     },
     "execution_count": 43,
     "metadata": {},
     "output_type": "execute_result"
    }
   ],
   "source": [
    "y_pred[:10]"
   ]
  },
  {
   "cell_type": "code",
   "execution_count": 44,
   "metadata": {
    "_cell_guid": "e5730f31-ad25-4d40-9994-ddffc5ec54c6",
    "_uuid": "9b08502d4a93d73d226bf6463f64afb0eb68cd57"
   },
   "outputs": [],
   "source": [
    "y_pred = np.exp(y_pred[:]) - 1"
   ]
  },
  {
   "cell_type": "code",
   "execution_count": 45,
   "metadata": {
    "_cell_guid": "fede5f8e-4f8c-4609-ab89-f29426c55a01",
    "_uuid": "f676f07e2a5292ca482e4e625310d107a2435145"
   },
   "outputs": [
    {
     "name": "stdout",
     "output_type": "stream",
     "text": [
      "[ 860.5604   573.17426  422.9663   886.4156   428.41168  887.5037\n",
      " 1130.1932   625.0306  2415.1897   587.8059 ]\n"
     ]
    }
   ],
   "source": [
    "print(y_pred[:10])"
   ]
  },
  {
   "cell_type": "code",
   "execution_count": 47,
   "metadata": {
    "_cell_guid": "a194adc4-6d6c-4a7d-a629-2db96939782e",
    "_uuid": "c36869d6ec88e57328dcfea842ed2c6e73bf7c7f"
   },
   "outputs": [],
   "source": [
    "submission = pd.read_csv('../input/sample_submission.csv', index_col=0, header=0)"
   ]
  },
  {
   "cell_type": "code",
   "execution_count": 110,
   "metadata": {
    "_cell_guid": "09cca1ef-05ed-40dc-8458-689a7c09ac68",
    "_uuid": "47bcca7c72fd6dd12de43cb6c8e06a5bf88ac01f",
    "scrolled": false
   },
   "outputs": [
    {
     "data": {
      "text/plain": [
       "(625134, 1)"
      ]
     },
     "execution_count": 110,
     "metadata": {},
     "output_type": "execute_result"
    }
   ],
   "source": [
    "submission.shape"
   ]
  },
  {
   "cell_type": "code",
   "execution_count": 111,
   "metadata": {
    "_cell_guid": "5ba04ee8-b17f-4b96-a767-a993e26ba552",
    "_uuid": "7093a653bcde82b4672a2460dd63253207d7900a"
   },
   "outputs": [
    {
     "data": {
      "text/plain": [
       "(625134,)"
      ]
     },
     "execution_count": 111,
     "metadata": {},
     "output_type": "execute_result"
    }
   ],
   "source": [
    "y_pred.shape"
   ]
  },
  {
   "cell_type": "code",
   "execution_count": 112,
   "metadata": {
    "_cell_guid": "2b4b4aac-cff5-4f58-9cae-037689052b3b",
    "_uuid": "44fd604038e29c6c57fa69f1d4891a9e695f4db0"
   },
   "outputs": [
    {
     "data": {
      "text/html": [
       "<div>\n",
       "<style scoped>\n",
       "    .dataframe tbody tr th:only-of-type {\n",
       "        vertical-align: middle;\n",
       "    }\n",
       "\n",
       "    .dataframe tbody tr th {\n",
       "        vertical-align: top;\n",
       "    }\n",
       "\n",
       "    .dataframe thead th {\n",
       "        text-align: right;\n",
       "    }\n",
       "</style>\n",
       "<table border=\"1\" class=\"dataframe\">\n",
       "  <thead>\n",
       "    <tr style=\"text-align: right;\">\n",
       "      <th></th>\n",
       "      <th>trip_duration</th>\n",
       "    </tr>\n",
       "    <tr>\n",
       "      <th>id</th>\n",
       "      <th></th>\n",
       "    </tr>\n",
       "  </thead>\n",
       "  <tbody>\n",
       "    <tr>\n",
       "      <th>id3004672</th>\n",
       "      <td>860.0</td>\n",
       "    </tr>\n",
       "    <tr>\n",
       "      <th>id3505355</th>\n",
       "      <td>710.0</td>\n",
       "    </tr>\n",
       "    <tr>\n",
       "      <th>id1217141</th>\n",
       "      <td>483.0</td>\n",
       "    </tr>\n",
       "    <tr>\n",
       "      <th>id2150126</th>\n",
       "      <td>1044.0</td>\n",
       "    </tr>\n",
       "    <tr>\n",
       "      <th>id1598245</th>\n",
       "      <td>368.0</td>\n",
       "    </tr>\n",
       "    <tr>\n",
       "      <th>id0668992</th>\n",
       "      <td>1076.0</td>\n",
       "    </tr>\n",
       "    <tr>\n",
       "      <th>id1765014</th>\n",
       "      <td>1102.0</td>\n",
       "    </tr>\n",
       "    <tr>\n",
       "      <th>id0898117</th>\n",
       "      <td>759.0</td>\n",
       "    </tr>\n",
       "    <tr>\n",
       "      <th>id3905224</th>\n",
       "      <td>2182.0</td>\n",
       "    </tr>\n",
       "    <tr>\n",
       "      <th>id1543102</th>\n",
       "      <td>600.0</td>\n",
       "    </tr>\n",
       "  </tbody>\n",
       "</table>\n",
       "</div>"
      ],
      "text/plain": [
       "           trip_duration\n",
       "id                      \n",
       "id3004672          860.0\n",
       "id3505355          710.0\n",
       "id1217141          483.0\n",
       "id2150126         1044.0\n",
       "id1598245          368.0\n",
       "id0668992         1076.0\n",
       "id1765014         1102.0\n",
       "id0898117          759.0\n",
       "id3905224         2182.0\n",
       "id1543102          600.0"
      ]
     },
     "execution_count": 112,
     "metadata": {},
     "output_type": "execute_result"
    }
   ],
   "source": [
    "submission.trip_duration = y_pred\n",
    "submission.head(10)"
   ]
  },
  {
   "cell_type": "code",
   "execution_count": 114,
   "metadata": {
    "_cell_guid": "b811ffeb-7955-403b-9e92-18967b973121",
    "_uuid": "6b3493f20d2161f268138e2f93ff0c200f89d1fd",
    "collapsed": true
   },
   "outputs": [],
   "source": [
    "submission.to_csv('submission.csv')"
   ]
  },
  {
   "cell_type": "code",
   "execution_count": null,
   "metadata": {
    "_uuid": "5514104f928abf74232b5506075c493da8966446",
    "collapsed": true
   },
   "outputs": [],
   "source": []
  }
 ],
 "metadata": {
  "kernelspec": {
   "display_name": "Python 2",
   "language": "python",
   "name": "python2"
  },
  "language_info": {
   "codemirror_mode": {
    "name": "ipython",
    "version": 2
   },
   "file_extension": ".py",
   "mimetype": "text/x-python",
   "name": "python",
   "nbconvert_exporter": "python",
   "pygments_lexer": "ipython2",
   "version": "2.7.14"
  }
 },
 "nbformat": 4,
 "nbformat_minor": 1
}
